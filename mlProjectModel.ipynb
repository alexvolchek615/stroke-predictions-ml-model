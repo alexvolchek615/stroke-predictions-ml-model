{
 "cells": [
  {
   "cell_type": "code",
   "execution_count": 1,
   "id": "c4b9d14d-9a2c-4b29-a836-dd0733acf511",
   "metadata": {},
   "outputs": [],
   "source": [
    "import sklearn\n",
    "import numpy as np\n",
    "import pandas as pd\n",
    "import matplotlib.pyplot as plt\n",
    "import seaborn as sns\n",
    "from scipy.stats import norm, poisson\n",
    "from sklearn.model_selection import train_test_split\n",
    "from sklearn.pipeline import Pipeline\n",
    "from sklearn.feature_extraction.text import CountVectorizer\n",
    "from sklearn.naive_bayes import MultinomialNB\n",
    "from sklearn.naive_bayes import GaussianNB\n",
    "from sklearn.preprocessing import OneHotEncoder\n",
    "from sklearn.preprocessing import LabelEncoder\n",
    "from sklearn.metrics import accuracy_score\n",
    "from sklearn.compose import ColumnTransformer\n",
    "from sklearn.linear_model import LogisticRegression\n",
    "from sklearn.svm import LinearSVC\n",
    "import numpy as np\n",
    "import pickle\n",
    "from joblib import dump, load"
   ]
  },
  {
   "cell_type": "code",
   "execution_count": 2,
   "id": "742c5520-f4f5-41ca-b77d-062e62a24343",
   "metadata": {},
   "outputs": [],
   "source": [
    "df = pd.read_csv(\"train_strokes.csv\")\n",
    "df = df.drop(['id'], axis=1)\n"
   ]
  },
  {
   "cell_type": "code",
   "execution_count": 4,
   "id": "b6db26cf-ea76-4453-9281-13dbf7ed41bf",
   "metadata": {},
   "outputs": [],
   "source": [
    "df = df.drop(df[df['gender'] == 'Other'].index)"
   ]
  },
  {
   "cell_type": "code",
   "execution_count": 5,
   "id": "95311549-073f-474c-9afd-ec33b8d2c817",
   "metadata": {},
   "outputs": [],
   "source": [
    "# the fact that both smoking status and BMI with NaN values represents such a large subset of the stroke data is likely\n",
    "# meaningful - stroke patients arent being measured for weight when they come in or asked about smoking habits.\n",
    "# additionally, they could have poor medical care\n",
    "# for whatever reason, given this is important so we cannot impute. Instead I unfortunately removed these features."
   ]
  },
  {
   "cell_type": "code",
   "execution_count": 6,
   "id": "e5fcb004-ee2c-4193-ab8f-7cbba6282a90",
   "metadata": {
    "tags": []
   },
   "outputs": [],
   "source": [
    "df = df.drop('bmi', axis = 1)"
   ]
  },
  {
   "cell_type": "code",
   "execution_count": 7,
   "id": "b2828883-7c26-4b64-8f9f-4783a20b3caf",
   "metadata": {},
   "outputs": [],
   "source": [
    "df = df.drop('smoking_status', axis = 1)"
   ]
  },
  {
   "cell_type": "code",
   "execution_count": 8,
   "id": "c39200b3-2aa8-4afb-badd-a72f4cf31e88",
   "metadata": {},
   "outputs": [],
   "source": [
    "oldX, y = df.drop('stroke', axis=1).values, df['stroke'].values"
   ]
  },
  {
   "cell_type": "code",
   "execution_count": 9,
   "id": "0134c3a2-ab3a-4db0-b691-6f1bf6a15c8b",
   "metadata": {
    "tags": []
   },
   "outputs": [],
   "source": [
    "encoder = OneHotEncoder(handle_unknown='ignore')\n",
    "\n",
    "#encode columns with string data\n",
    "ct = ColumnTransformer([\n",
    "    ('encoder', encoder, [0, 4, 5, 6]) \n",
    "], remainder='passthrough')\n",
    "\n",
    "X = ct.fit_transform(oldX)"
   ]
  },
  {
   "cell_type": "code",
   "execution_count": 10,
   "id": "b0e083c3-3122-4f2a-8b0b-e53f55a3bd03",
   "metadata": {
    "tags": []
   },
   "outputs": [],
   "source": [
    "# over and under sampling\n",
    "from imblearn.combine import SMOTEENN\n",
    "from imblearn.combine import SMOTETomek\n",
    "\n",
    "smote_enn = SMOTEENN(random_state=0)\n",
    "\n",
    "\n",
    "X_resampled, y_resampled = smote_enn.fit_resample(X, y)\n",
    "\n",
    "smote_tomek = SMOTETomek(random_state=0)\n",
    "X_resampled, y_resampled = smote_tomek.fit_resample(X, y)"
   ]
  },
  {
   "cell_type": "code",
   "execution_count": 11,
   "id": "8df021ea-3bf1-4c02-8c8d-9cc63f5ee666",
   "metadata": {},
   "outputs": [],
   "source": [
    "X_train, X_test, y_train, y_test = train_test_split(X_resampled, y_resampled)"
   ]
  },
  {
   "cell_type": "code",
   "execution_count": 12,
   "id": "bac83658-e820-43a6-9ae4-28a4a1b3d4f1",
   "metadata": {},
   "outputs": [],
   "source": [
    "# for other linear models would have used predict_proba\n",
    "pipe = Pipeline([('lr', LinearSVC(C=0.0001, class_weight={1: 1.5}))\n",
    "]).fit(X_train, y_train)\n",
    "\n"
   ]
  },
  {
   "cell_type": "code",
   "execution_count": 13,
   "id": "07430f81-c62f-4b7c-a471-eed9bf9c829c",
   "metadata": {},
   "outputs": [
    {
     "data": {
      "text/plain": [
       "['savedModel.joblib']"
      ]
     },
     "execution_count": 13,
     "metadata": {},
     "output_type": "execute_result"
    }
   ],
   "source": [
    "dump(pipe, 'savedModel.joblib') "
   ]
  },
  {
   "cell_type": "code",
   "execution_count": 14,
   "id": "64819a3c-18bf-4f7b-a5c3-626a42037ac7",
   "metadata": {},
   "outputs": [
    {
     "data": {
      "text/plain": [
       "['savedColumnTransformer.joblib']"
      ]
     },
     "execution_count": 14,
     "metadata": {},
     "output_type": "execute_result"
    }
   ],
   "source": [
    "dump(ct, 'savedColumnTransformer.joblib')"
   ]
  },
  {
   "cell_type": "code",
   "execution_count": 15,
   "id": "80a48b37-6843-4041-8a7e-c2895f10eebb",
   "metadata": {},
   "outputs": [
    {
     "name": "stdout",
     "output_type": "stream",
     "text": [
      "              precision    recall  f1-score   support\n",
      "\n",
      "           0       0.88      0.61      0.72     10644\n",
      "           1       0.70      0.92      0.79     10588\n",
      "\n",
      "    accuracy                           0.76     21232\n",
      "   macro avg       0.79      0.76      0.76     21232\n",
      "weighted avg       0.79      0.76      0.76     21232\n",
      "\n"
     ]
    }
   ],
   "source": [
    "from sklearn.metrics import classification_report\n",
    "\n",
    "predictions = pipe.predict(X_test)\n",
    "print(classification_report(y_test, predictions))"
   ]
  },
  {
   "cell_type": "code",
   "execution_count": 17,
   "id": "47888a04-8144-4036-ac80-737a6c5113ff",
   "metadata": {},
   "outputs": [],
   "source": [
    "def gather_user_data_output_result(pipe, ct):\n",
    "    gender = input(\"please input gender as either: 'male' or 'female'\")\n",
    "    age = float(input(\"please input age as float\"))\n",
    "    hypertension = int(input(\"please input if you have hypertension as either 1 for yes or 0 for no\"))\n",
    "    heartdisease = int(input(\"please input if you have heart disease as either 1 for yes or 0 for no\"))\n",
    "    ever_married = input(\"please input if you have ever been married as either 'Yes' or 'No'\")\n",
    "    work_type = input(\"please input your current work type as one of the following: 'children', 'Private', 'Never_worked', 'Govt_job', 'Self-employed'\")\n",
    "    Residence_type = input(\"please input your residence type as either 'Rural' or 'Urban'\")\n",
    "    avg_glucose_level = float(input(\"please input your average glucose level as a float\"))\n",
    "    row = [gender, age, hypertension, heartdisease, ever_married, work_type, Residence_type, avg_glucose_level]\n",
    "    row = ct.transform([row])\n",
    "    result = pipe.predict(row)\n",
    "    result = result[0]\n",
    "    if result == 0:\n",
    "        print(\"According to the model you will likely not have a stroke.\")\n",
    "    elif result == 1:\n",
    "        print(\"According to the model you may likely  have a stroke. Please see a doctor\")\n",
    "    return result\n",
    "    \n",
    "\n",
    "               "
   ]
  },
  {
   "cell_type": "code",
   "execution_count": 18,
   "id": "bd4b5d6d-f759-42be-bd3e-6c88f4bc554e",
   "metadata": {},
   "outputs": [
    {
     "name": "stdin",
     "output_type": "stream",
     "text": [
      "please input gender as either: 'male' or 'female' female\n",
      "please input age as float 70\n",
      "please input if you have hypertension as either 1 for yes or 0 for no 1\n",
      "please input if you have heart disease as either 1 for yes or 0 for no 1\n",
      "please input if you have ever been married as either 'Yes' or 'No' Yes\n",
      "please input your current work type as one of the following: 'children', 'Private', 'Never_worked', 'Govt_job', 'Self-employed' children\n",
      "please input your residence type as either 'Rural' or 'Urban' Rural\n",
      "please input your average glucose level as a float 13\n"
     ]
    },
    {
     "name": "stdout",
     "output_type": "stream",
     "text": [
      "According to the model you may likely  have a stroke. Please see a doctor\n"
     ]
    },
    {
     "data": {
      "text/plain": [
       "1"
      ]
     },
     "execution_count": 18,
     "metadata": {},
     "output_type": "execute_result"
    }
   ],
   "source": [
    "gather_user_data_output_result(pipe, ct)"
   ]
  },
  {
   "cell_type": "code",
   "execution_count": null,
   "id": "767397cc-8d0a-4b4c-a4a5-2e4245cdfe81",
   "metadata": {},
   "outputs": [],
   "source": []
  }
 ],
 "metadata": {
  "kernelspec": {
   "display_name": "Python 3 (ipykernel)",
   "language": "python",
   "name": "python3"
  },
  "language_info": {
   "codemirror_mode": {
    "name": "ipython",
    "version": 3
   },
   "file_extension": ".py",
   "mimetype": "text/x-python",
   "name": "python",
   "nbconvert_exporter": "python",
   "pygments_lexer": "ipython3",
   "version": "3.7.3"
  }
 },
 "nbformat": 4,
 "nbformat_minor": 5
}
